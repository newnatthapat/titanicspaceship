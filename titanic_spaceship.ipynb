{
 "cells": [
  {
   "cell_type": "markdown",
   "id": "627a3126",
   "metadata": {},
   "source": [
    "# STARTING PROJECT"
   ]
  },
  {
   "cell_type": "markdown",
   "id": "67416ceb",
   "metadata": {},
   "source": [
    "### IMPORT NECCESSARY MODULE"
   ]
  },
  {
   "cell_type": "code",
   "execution_count": 1,
   "id": "c173f77a",
   "metadata": {},
   "outputs": [],
   "source": [
    "import pandas as pd\n",
    "import numpy as np\n",
    "import seaborn as sb\n",
    "import matplotlib.pyplot as plt"
   ]
  },
  {
   "cell_type": "markdown",
   "id": "7cbefb9b",
   "metadata": {},
   "source": [
    "### IMPORT FILE"
   ]
  },
  {
   "cell_type": "code",
   "execution_count": null,
   "id": "1c4cd81f",
   "metadata": {},
   "outputs": [],
   "source": [
    "original_df = pd.read_csv('train.csv')\n",
    "original_test_df = pd.read_csv('test.csv')"
   ]
  },
  {
   "cell_type": "code",
   "execution_count": null,
   "id": "e0c1e9a1",
   "metadata": {
    "scrolled": true
   },
   "outputs": [],
   "source": [
    "original_df.head()"
   ]
  },
  {
   "cell_type": "markdown",
   "id": "ec75f46f",
   "metadata": {},
   "source": [
    "### OVERVIEW AND CORRELATION"
   ]
  },
  {
   "cell_type": "markdown",
   "id": "3451fe72",
   "metadata": {},
   "source": [
    "##### 1. DESCRIBE BASIC STATISTICAL INFO"
   ]
  },
  {
   "cell_type": "code",
   "execution_count": null,
   "id": "0896dc02",
   "metadata": {},
   "outputs": [],
   "source": [
    "original_df.describe(percentiles=[i/10 for i in range(1,10)])"
   ]
  },
  {
   "cell_type": "markdown",
   "id": "d39255df",
   "metadata": {},
   "source": [
    "##### 2. HEATMAP"
   ]
  },
  {
   "cell_type": "code",
   "execution_count": null,
   "id": "45eecc62",
   "metadata": {},
   "outputs": [],
   "source": [
    "corr = original_df.corr()\n",
    "heatmap = sb.heatmap(corr, cmap=\"summer_r\", annot=True)"
   ]
  },
  {
   "cell_type": "markdown",
   "id": "0bbb4aa8",
   "metadata": {},
   "source": [
    "##### 3. BOXPLOT"
   ]
  },
  {
   "cell_type": "code",
   "execution_count": null,
   "id": "b704bef9",
   "metadata": {},
   "outputs": [],
   "source": [
    "f, (ax1, ax2) = plt.subplots(nrows=2, ncols=3, figsize=(20, 10))\n",
    "sb.boxplot(x=original_df[\"Age\"], hue='Transported', data=original_df,ax = ax1[0])\n",
    "sb.boxplot(x=original_df[\"RoomService\"], hue='Transported', data=original_df, ax=ax1[1])\n",
    "sb.boxplot(x=original_df[\"FoodCourt\"], hue='Transported', data=original_df, ax=ax1[2])\n",
    "sb.boxplot(x=original_df[\"ShoppingMall\"], hue='Transported', data=original_df, ax=ax2[0])\n",
    "sb.boxplot(x=original_df[\"Spa\"], hue='Transported', data=original_df, ax=ax2[1])\n",
    "sb.boxplot(x=original_df[\"VRDeck\"], hue='Transported', data=original_df, ax=ax2[2])\n",
    "plt.show()"
   ]
  },
  {
   "cell_type": "markdown",
   "id": "8fca22ac",
   "metadata": {},
   "source": [
    "##### 4. KDE - Kernel Density Estimate"
   ]
  },
  {
   "cell_type": "code",
   "execution_count": null,
   "id": "921765e2",
   "metadata": {},
   "outputs": [],
   "source": [
    "f, (ax1, ax2) = plt.subplots(nrows=2, ncols=3, figsize=(20, 10))\n",
    "sb.kdeplot(x=original_df[\"Age\"], hue='Transported', data=original_df,ax = ax1[0])\n",
    "sb.kdeplot(x=original_df[\"RoomService\"], hue='Transported', data=original_df, ax=ax1[1])\n",
    "sb.kdeplot(x=original_df[\"FoodCourt\"], hue='Transported', data=original_df, ax=ax1[2])\n",
    "sb.kdeplot(x=original_df[\"ShoppingMall\"], hue='Transported', data=original_df, ax=ax2[0])\n",
    "sb.kdeplot(x=original_df[\"Spa\"], hue='Transported', data=original_df, ax=ax2[1])\n",
    "sb.kdeplot(x=original_df[\"VRDeck\"], hue='Transported', data=original_df, ax=ax2[2])\n",
    "plt.show()"
   ]
  },
  {
   "cell_type": "markdown",
   "id": "5bb963e5",
   "metadata": {},
   "source": [
    "# DATA CLEANSING"
   ]
  },
  {
   "cell_type": "markdown",
   "id": "c947db99",
   "metadata": {},
   "source": [
    "### DROP UNNECCESSARY COLUMNS AND SPLIT CABIN"
   ]
  },
  {
   "cell_type": "code",
   "execution_count": 2,
   "id": "abca459d",
   "metadata": {},
   "outputs": [],
   "source": [
    "original_df = pd.read_csv('train.csv')\n",
    "original_df[['Cabin1','Cabin2', 'Cabin3']] = original_df['Cabin'].str.split('/', expand=True)\n",
    "df = original_df.drop(columns=['Name','PassengerId','VIP','Cabin','Cabin2'])\n",
    "\n",
    "### TEST ###\n",
    "original_test_df = pd.read_csv('test.csv')\n",
    "original_test_df[['Cabin1','Cabin2', 'Cabin3']] = original_test_df['Cabin'].str.split('/', expand=True)\n",
    "test_df = original_test_df.drop(columns=['Name','PassengerId','VIP','Cabin','Cabin2'])"
   ]
  },
  {
   "cell_type": "markdown",
   "id": "86aacf24",
   "metadata": {},
   "source": [
    "### HANDLE OUTLIER"
   ]
  },
  {
   "cell_type": "code",
   "execution_count": 3,
   "id": "6698fd9f",
   "metadata": {},
   "outputs": [],
   "source": [
    "def handleoutlier(colname):\n",
    "    q1 = df[colname].quantile(0.05)\n",
    "    q3 = df[colname].quantile(0.95)\n",
    "    iqr = q3-q1\n",
    "    lowerlimit = q1 - (1.5*iqr)\n",
    "    upperlimit = q3 + (1.5*iqr)\n",
    "    df.loc[df[colname] < lowerlimit, [colname]] = lowerlimit\n",
    "    df.loc[df[colname] > upperlimit, [colname]] = upperlimit\n",
    "for j in ['RoomService', 'FoodCourt', 'ShoppingMall', 'Spa', 'VRDeck']:\n",
    "    handleoutlier(j)\n",
    "    \n",
    "### TEST ###\n",
    "def handleoutlier_test_df(colname):\n",
    "    q1 = test_df[colname].quantile(0.05)\n",
    "    q3 = test_df[colname].quantile(0.95)\n",
    "    iqr = q3-q1\n",
    "    lowerlimit = q1 - (1.5*iqr)\n",
    "    upperlimit = q3 + (1.5*iqr)\n",
    "    test_df.loc[test_df[colname] < lowerlimit, [colname]] = lowerlimit\n",
    "    test_df.loc[test_df[colname] > upperlimit, [colname]] = upperlimit\n",
    "for j in ['RoomService', 'FoodCourt', 'ShoppingMall', 'Spa', 'VRDeck']:\n",
    "    handleoutlier_test_df(j)"
   ]
  },
  {
   "cell_type": "markdown",
   "id": "e421e40c",
   "metadata": {},
   "source": [
    "### FILL NULL"
   ]
  },
  {
   "cell_type": "markdown",
   "id": "b1ee3d6d",
   "metadata": {},
   "source": [
    "##### 1. CHECK NULL"
   ]
  },
  {
   "cell_type": "code",
   "execution_count": 4,
   "id": "5f87fe96",
   "metadata": {
    "scrolled": false
   },
   "outputs": [
    {
     "data": {
      "text/plain": [
       "HomePlanet      201\n",
       "CryoSleep       217\n",
       "Destination     182\n",
       "Age             179\n",
       "RoomService     181\n",
       "FoodCourt       183\n",
       "ShoppingMall    208\n",
       "Spa             183\n",
       "VRDeck          188\n",
       "Transported       0\n",
       "Cabin1          199\n",
       "Cabin3          199\n",
       "dtype: int64"
      ]
     },
     "execution_count": 4,
     "metadata": {},
     "output_type": "execute_result"
    }
   ],
   "source": [
    "df.isnull().sum()"
   ]
  },
  {
   "cell_type": "markdown",
   "id": "341197b1",
   "metadata": {},
   "source": [
    "##### 2. FILL NULL"
   ]
  },
  {
   "cell_type": "code",
   "execution_count": 5,
   "id": "abe1d5e4",
   "metadata": {},
   "outputs": [],
   "source": [
    "from sklearn.impute import KNNImputer\n",
    "\n",
    "imputer = KNNImputer(n_neighbors=5)\n",
    "\n",
    "df[\"Cabin1\"] = df[\"Cabin1\"].fillna(\"F\")\n",
    "df[\"Cabin3\"] = df[\"Cabin3\"].fillna(\"S\")\n",
    "\n",
    "x = imputer.fit_transform(df[['Age', 'RoomService','FoodCourt', 'ShoppingMall', 'Spa', 'VRDeck']])\n",
    "df[['Age', 'RoomService','FoodCourt', 'ShoppingMall', 'Spa', 'VRDeck']] = x\n",
    "\n",
    "df[\"HomePlanet\"] = df[\"HomePlanet\"].fillna(\"Earth\")\n",
    "df[\"Destination\"] = df[\"Destination\"].fillna(\"TRAPPIST-1e\")\n",
    "df['CryoSleep'] = df['CryoSleep'].fillna(False)\n",
    "\n",
    "\n",
    "### TEST ###\n",
    "imputer = KNNImputer(n_neighbors=5)\n",
    "\n",
    "test_df[\"Cabin1\"] = test_df[\"Cabin1\"].fillna(\"F\")\n",
    "test_df[\"Cabin3\"] = test_df[\"Cabin3\"].fillna(\"S\")\n",
    "\n",
    "x = imputer.fit_transform(test_df[['Age', 'RoomService','FoodCourt', 'ShoppingMall', 'Spa', 'VRDeck']])\n",
    "test_df[['Age', 'RoomService','FoodCourt', 'ShoppingMall', 'Spa', 'VRDeck']] = x\n",
    "\n",
    "test_df[\"HomePlanet\"] = test_df[\"HomePlanet\"].fillna(\"Earth\")\n",
    "test_df[\"Destination\"] = test_df[\"Destination\"].fillna(\"TRAPPIST-1e\")\n",
    "test_df['CryoSleep'] = test_df['CryoSleep'].fillna(False)"
   ]
  },
  {
   "cell_type": "markdown",
   "id": "041c971c",
   "metadata": {},
   "source": [
    "### CREATE NEW COLUMNS (SumSpend from all amount of spending)"
   ]
  },
  {
   "cell_type": "code",
   "execution_count": 6,
   "id": "f184f579",
   "metadata": {},
   "outputs": [],
   "source": [
    "df[\"SumSpend\"] = df[['RoomService','FoodCourt', 'ShoppingMall', 'Spa', 'VRDeck']].sum(axis=1)\n",
    "df['AgeCat'] = pd.cut(df.Age,bins=[-1, 5, 12, 18, 50, 150], labels=[0,1,2,3,4])\n",
    "df['AgeCat'] = df['AgeCat'].astype(int)\n",
    "df = df.drop(columns=['Age'])\n",
    "\n",
    "### TEST ###\n",
    "test_df[\"SumSpend\"] = test_df[['RoomService','FoodCourt', 'ShoppingMall', 'Spa', 'VRDeck']].sum(axis=1)\n",
    "test_df['AgeCat'] = pd.cut(test_df.Age,bins=[-1, 5, 12, 18, 50, 150], labels=[0,1,2,3,4])\n",
    "test_df['AgeCat'] = test_df['AgeCat'].astype(int)\n",
    "test_df = test_df.drop(columns=['Age'])"
   ]
  },
  {
   "cell_type": "markdown",
   "id": "f0404dce",
   "metadata": {},
   "source": [
    "### ENCODE STR AND BOOL TO NUMBER"
   ]
  },
  {
   "cell_type": "code",
   "execution_count": 7,
   "id": "d2f6dd6b",
   "metadata": {},
   "outputs": [],
   "source": [
    "from sklearn.preprocessing import LabelEncoder\n",
    "\n",
    "for col in df.select_dtypes(include = ['object','bool']):\n",
    "    le = LabelEncoder()\n",
    "    df[col] = le.fit_transform(df[col])\n",
    "\n",
    "uhp, indiceuhp = np.unique(np.array(df[\"HomePlanet\"]),return_inverse=True)\n",
    "ud, indiceud = np.unique(np.array(df[\"Destination\"]),return_inverse=True)\n",
    "    \n",
    "one_hot_homeplanet = np.zeros((indiceuhp.size, indiceuhp.max()+1))\n",
    "one_hot_homeplanet[np.arange(indiceuhp.size),indiceuhp] = 1\n",
    "one_hot_homeplanet = one_hot_homeplanet.astype(int)\n",
    "\n",
    "one_hot_destination = np.zeros((indiceud.size, indiceud.max()+1))\n",
    "one_hot_destination[np.arange(indiceud.size),indiceud] = 1\n",
    "one_hot_destination = one_hot_destination.astype(int)\n",
    "\n",
    "df[[\"Earth\",\"Europa\",\"Mars\"]] = one_hot_homeplanet\n",
    "df[['55 Cancri e', 'PSO J318.5-22', 'TRAPPIST-1e']] = one_hot_destination\n",
    "df = df.drop(columns=[\"HomePlanet\",\"Destination\"])\n",
    "\n",
    "######## TEST ########\n",
    "for col in test_df.select_dtypes(include = ['object','bool']):\n",
    "    le = LabelEncoder()\n",
    "    test_df[col] = le.fit_transform(test_df[col])\n",
    "    \n",
    "uhp, indiceuhp = np.unique(np.array(test_df[\"HomePlanet\"]),return_inverse=True)\n",
    "ud, indiceud = np.unique(np.array(test_df[\"Destination\"]),return_inverse=True)\n",
    "    \n",
    "one_hot_homeplanet = np.zeros((indiceuhp.size, indiceuhp.max()+1))\n",
    "one_hot_homeplanet[np.arange(indiceuhp.size),indiceuhp] = 1\n",
    "one_hot_homeplanet = one_hot_homeplanet.astype(int)\n",
    "\n",
    "one_hot_destination = np.zeros((indiceud.size, indiceud.max()+1))\n",
    "one_hot_destination[np.arange(indiceud.size),indiceud] = 1\n",
    "one_hot_destination = one_hot_destination.astype(int)\n",
    "\n",
    "test_df[[\"Earth\",\"Europa\",\"Mars\"]] = one_hot_homeplanet\n",
    "test_df[['55 Cancri e', 'PSO J318.5-22', 'TRAPPIST-1e']] = one_hot_destination\n",
    "test_df = test_df.drop(columns=[\"HomePlanet\",\"Destination\"])"
   ]
  },
  {
   "cell_type": "markdown",
   "id": "39f79d3c",
   "metadata": {},
   "source": [
    "### STANDARD SCALER(not use)"
   ]
  },
  {
   "cell_type": "code",
   "execution_count": null,
   "id": "d96f9f1c",
   "metadata": {},
   "outputs": [],
   "source": [
    "from sklearn.preprocessing import StandardScaler\n",
    "\n",
    "\n",
    "for i in ['RoomService','FoodCourt', 'ShoppingMall', 'Spa', 'VRDeck','SumSpend']:\n",
    "    scaler = StandardScaler()\n",
    "    x = np.array(df[i]).reshape(-1,1)\n",
    "    scaler.fit(x)\n",
    "    df[i] = scaler.transform(x).flatten()\n",
    "    \n",
    "\n",
    "### TEST ###\n",
    "\n",
    "for i in ['RoomService','FoodCourt', 'ShoppingMall', 'Spa', 'VRDeck','SumSpend']:\n",
    "    scaler = StandardScaler()\n",
    "    x = np.array(test_df[i]).reshape(-1,1)\n",
    "    scaler.fit(x)\n",
    "    test_df[i] = scaler.transform(x).flatten()"
   ]
  },
  {
   "cell_type": "markdown",
   "id": "951f4b8a",
   "metadata": {},
   "source": [
    "# MODELING AND EVALUATION"
   ]
  },
  {
   "cell_type": "markdown",
   "id": "bc926a8d",
   "metadata": {},
   "source": [
    "### IMPORT TRAINING MODULE"
   ]
  },
  {
   "cell_type": "code",
   "execution_count": 8,
   "id": "966ca03a",
   "metadata": {},
   "outputs": [],
   "source": [
    "from sklearn.linear_model import LogisticRegression\n",
    "from sklearn.ensemble import RandomForestClassifier\n",
    "from catboost import CatBoostClassifier\n",
    "from sklearn.metrics import accuracy_score, log_loss\n",
    "from sklearn.model_selection import train_test_split,cross_validate,cross_val_score\n",
    "from sklearn.preprocessing import StandardScaler"
   ]
  },
  {
   "cell_type": "markdown",
   "id": "16e4a7a0",
   "metadata": {},
   "source": [
    "### MAKE TRAIN AND TARGET"
   ]
  },
  {
   "cell_type": "code",
   "execution_count": 9,
   "id": "e08d0c75",
   "metadata": {},
   "outputs": [],
   "source": [
    "train_df = df.drop(columns=[\"Transported\"])\n",
    "target_df = df[\"Transported\"]"
   ]
  },
  {
   "cell_type": "markdown",
   "id": "6f2bfbc3",
   "metadata": {},
   "source": [
    "### SELECT MODEL"
   ]
  },
  {
   "cell_type": "code",
   "execution_count": 10,
   "id": "f6be7540",
   "metadata": {},
   "outputs": [
    {
     "name": "stdout",
     "output_type": "stream",
     "text": [
      "---------- RandomForest ----------\n",
      "Mean Score of Cross Validation : 79.386 %\n",
      "Max Score of Cross Validation : 80.725 %\n",
      "---------- Logistic ----------\n",
      "Mean Score of Cross Validation : 79.179 %\n",
      "Max Score of Cross Validation : 80.265 %\n",
      "---------- CatBoost ----------\n",
      "Mean Score of Cross Validation : 80.605 %\n",
      "Max Score of Cross Validation : 82.451 %\n"
     ]
    }
   ],
   "source": [
    "RandomForestClassifier = RandomForestClassifier()\n",
    "print(\"---------- RandomForest ----------\")\n",
    "scores = cross_val_score(RandomForestClassifier, train_df, target_df, cv=5)\n",
    "print(\"Mean Score of Cross Validation :\", \"%.3f\"%(np.mean(scores)*100), \"%\")\n",
    "print(\"Max Score of Cross Validation :\", \"%.3f\"%(np.max(scores)*100), \"%\")\n",
    "\n",
    "\n",
    "logistic = LogisticRegression()\n",
    "dfcopy = train_df.copy()\n",
    "for i in ['RoomService','FoodCourt', 'ShoppingMall', 'Spa', 'VRDeck','SumSpend']:\n",
    "    scaler = StandardScaler()\n",
    "    x = np.array(dfcopy[i]).reshape(-1,1)\n",
    "    scaler.fit(x)\n",
    "    dfcopy[i] = scaler.transform(x).flatten()\n",
    "\n",
    "print(\"---------- Logistic ----------\")\n",
    "scores = cross_val_score(logistic, dfcopy, target_df, cv=5)\n",
    "print(\"Mean Score of Cross Validation :\", \"%.3f\"%(np.mean(scores)*100), \"%\")\n",
    "print(\"Max Score of Cross Validation :\", \"%.3f\"%(np.max(scores)*100), \"%\")\n",
    "\n",
    "\n",
    "CatBoostClassifier = CatBoostClassifier(verbose = False)\n",
    "print(\"---------- CatBoost ----------\")\n",
    "scores = cross_val_score(CatBoostClassifier, train_df, target_df, cv=5)\n",
    "print(\"Mean Score of Cross Validation :\", \"%.3f\"%(np.mean(scores)*100), \"%\")\n",
    "print(\"Max Score of Cross Validation :\", \"%.3f\"%(np.max(scores)*100), \"%\")"
   ]
  },
  {
   "cell_type": "markdown",
   "id": "ee5991fd",
   "metadata": {},
   "source": [
    "### FEATURE SELECTION"
   ]
  },
  {
   "cell_type": "code",
   "execution_count": 24,
   "id": "a1baf7fd",
   "metadata": {},
   "outputs": [],
   "source": [
    "from sklearn.feature_selection import SequentialFeatureSelector\n",
    "from catboost import CatBoostClassifier\n",
    "import time"
   ]
  },
  {
   "cell_type": "code",
   "execution_count": 12,
   "id": "1fc00f1c",
   "metadata": {},
   "outputs": [],
   "source": [
    "catboost = CatBoostClassifier(learning_rate = 0.05,iterations = 500,verbose=False)\n",
    "selector = SequentialFeatureSelector(catboost,direction='backward')"
   ]
  },
  {
   "cell_type": "code",
   "execution_count": 13,
   "id": "5a992d23",
   "metadata": {},
   "outputs": [
    {
     "name": "stdout",
     "output_type": "stream",
     "text": [
      "Runtime : 9m 57.63s\n"
     ]
    }
   ],
   "source": [
    "start = time.time()\n",
    "selector.fit(train_df,target_df)\n",
    "end = time.time() - start\n",
    "minute = int(end // 60)\n",
    "sec = end % 60\n",
    "print(f\"Runtime : {minute}m {sec}s\")"
   ]
  },
  {
   "cell_type": "code",
   "execution_count": 21,
   "id": "320bc739",
   "metadata": {},
   "outputs": [
    {
     "data": {
      "text/plain": [
       "array([ True, False,  True,  True, False, False,  True,  True,  True,\n",
       "       False, False,  True, False, False,  True, False])"
      ]
     },
     "execution_count": 21,
     "metadata": {},
     "output_type": "execute_result"
    }
   ],
   "source": [
    "selector.get_support()"
   ]
  },
  {
   "cell_type": "markdown",
   "id": "09a5e254",
   "metadata": {},
   "source": [
    "### GET ONLY NECCESSARY FEATURE"
   ]
  },
  {
   "cell_type": "code",
   "execution_count": 25,
   "id": "4a05ec93",
   "metadata": {},
   "outputs": [],
   "source": [
    "train_df = train_df[['CryoSleep', 'RoomService', 'Spa', 'VRDeck', 'Cabin1', 'Cabin3', 'SumSpend']]\n",
    "### TEST ###\n",
    "test_df = test_df[['CryoSleep', 'RoomService', 'Spa', 'VRDeck', 'Cabin1', 'Cabin3', 'SumSpend']]"
   ]
  },
  {
   "cell_type": "markdown",
   "id": "803642d9",
   "metadata": {},
   "source": [
    "### MAKE TRAIN TEST SPLIT"
   ]
  },
  {
   "cell_type": "code",
   "execution_count": 26,
   "id": "f536259c",
   "metadata": {},
   "outputs": [],
   "source": [
    "X_train,X_test,y_train,y_test = train_test_split(train_df,target_df,test_size=0.3,random_state=5981)"
   ]
  },
  {
   "cell_type": "markdown",
   "id": "ddbd9c1c",
   "metadata": {},
   "source": [
    "### FIT MODEL"
   ]
  },
  {
   "cell_type": "code",
   "execution_count": 27,
   "id": "065a1b12",
   "metadata": {
    "scrolled": false
   },
   "outputs": [
    {
     "data": {
      "text/plain": [
       "<catboost.core.CatBoostClassifier at 0x1c82917c320>"
      ]
     },
     "execution_count": 27,
     "metadata": {},
     "output_type": "execute_result"
    }
   ],
   "source": [
    "#clf = LogisticRegression()\n",
    "#clf.fit(X_train, y_train)\n",
    "\n",
    "from catboost import CatBoostClassifier\n",
    "clf = CatBoostClassifier(verbose = False)\n",
    "clf.fit(X_train, y_train)"
   ]
  },
  {
   "cell_type": "markdown",
   "id": "23248151",
   "metadata": {},
   "source": [
    "### PREDICT AND EVALUATE"
   ]
  },
  {
   "cell_type": "code",
   "execution_count": 28,
   "id": "bd572e7b",
   "metadata": {},
   "outputs": [
    {
     "name": "stdout",
     "output_type": "stream",
     "text": [
      "Accuracy = 82.78374233128835 %\n",
      "LogLoss = 5.9463678267708895\n"
     ]
    }
   ],
   "source": [
    "y_pred = clf.predict(X_test)\n",
    "print(\"Accuracy =\",accuracy_score(y_test, y_pred)*100, \"%\")\n",
    "print(\"LogLoss =\",log_loss(y_test, y_pred))"
   ]
  },
  {
   "cell_type": "markdown",
   "id": "a3b9cb32",
   "metadata": {},
   "source": [
    "# TEST"
   ]
  },
  {
   "cell_type": "code",
   "execution_count": null,
   "id": "9c83bd63",
   "metadata": {},
   "outputs": [],
   "source": [
    "original_test_df"
   ]
  },
  {
   "cell_type": "code",
   "execution_count": null,
   "id": "458236cd",
   "metadata": {},
   "outputs": [],
   "source": [
    "test_df"
   ]
  },
  {
   "cell_type": "markdown",
   "id": "5962ae6d",
   "metadata": {},
   "source": [
    "### PREDICT"
   ]
  },
  {
   "cell_type": "code",
   "execution_count": 29,
   "id": "eb76bfa3",
   "metadata": {},
   "outputs": [],
   "source": [
    "test_pred = clf.predict(test_df)\n",
    "test_pred = test_pred.astype(bool)"
   ]
  },
  {
   "cell_type": "markdown",
   "id": "585dbfc2",
   "metadata": {},
   "source": [
    "### TRANSFORM TO SUBMISSION PATTERN"
   ]
  },
  {
   "cell_type": "code",
   "execution_count": 30,
   "id": "0949790a",
   "metadata": {
    "scrolled": true
   },
   "outputs": [
    {
     "data": {
      "text/html": [
       "<div>\n",
       "<style scoped>\n",
       "    .dataframe tbody tr th:only-of-type {\n",
       "        vertical-align: middle;\n",
       "    }\n",
       "\n",
       "    .dataframe tbody tr th {\n",
       "        vertical-align: top;\n",
       "    }\n",
       "\n",
       "    .dataframe thead th {\n",
       "        text-align: right;\n",
       "    }\n",
       "</style>\n",
       "<table border=\"1\" class=\"dataframe\">\n",
       "  <thead>\n",
       "    <tr style=\"text-align: right;\">\n",
       "      <th></th>\n",
       "      <th>PassengerId</th>\n",
       "      <th>Transported</th>\n",
       "    </tr>\n",
       "  </thead>\n",
       "  <tbody>\n",
       "    <tr>\n",
       "      <th>0</th>\n",
       "      <td>0013_01</td>\n",
       "      <td>True</td>\n",
       "    </tr>\n",
       "    <tr>\n",
       "      <th>1</th>\n",
       "      <td>0018_01</td>\n",
       "      <td>False</td>\n",
       "    </tr>\n",
       "    <tr>\n",
       "      <th>2</th>\n",
       "      <td>0019_01</td>\n",
       "      <td>True</td>\n",
       "    </tr>\n",
       "    <tr>\n",
       "      <th>3</th>\n",
       "      <td>0021_01</td>\n",
       "      <td>True</td>\n",
       "    </tr>\n",
       "    <tr>\n",
       "      <th>4</th>\n",
       "      <td>0023_01</td>\n",
       "      <td>True</td>\n",
       "    </tr>\n",
       "    <tr>\n",
       "      <th>...</th>\n",
       "      <td>...</td>\n",
       "      <td>...</td>\n",
       "    </tr>\n",
       "    <tr>\n",
       "      <th>4272</th>\n",
       "      <td>9266_02</td>\n",
       "      <td>True</td>\n",
       "    </tr>\n",
       "    <tr>\n",
       "      <th>4273</th>\n",
       "      <td>9269_01</td>\n",
       "      <td>False</td>\n",
       "    </tr>\n",
       "    <tr>\n",
       "      <th>4274</th>\n",
       "      <td>9271_01</td>\n",
       "      <td>True</td>\n",
       "    </tr>\n",
       "    <tr>\n",
       "      <th>4275</th>\n",
       "      <td>9273_01</td>\n",
       "      <td>True</td>\n",
       "    </tr>\n",
       "    <tr>\n",
       "      <th>4276</th>\n",
       "      <td>9277_01</td>\n",
       "      <td>True</td>\n",
       "    </tr>\n",
       "  </tbody>\n",
       "</table>\n",
       "<p>4277 rows × 2 columns</p>\n",
       "</div>"
      ],
      "text/plain": [
       "     PassengerId  Transported\n",
       "0        0013_01         True\n",
       "1        0018_01        False\n",
       "2        0019_01         True\n",
       "3        0021_01         True\n",
       "4        0023_01         True\n",
       "...          ...          ...\n",
       "4272     9266_02         True\n",
       "4273     9269_01        False\n",
       "4274     9271_01         True\n",
       "4275     9273_01         True\n",
       "4276     9277_01         True\n",
       "\n",
       "[4277 rows x 2 columns]"
      ]
     },
     "execution_count": 30,
     "metadata": {},
     "output_type": "execute_result"
    }
   ],
   "source": [
    "final = pd.DataFrame({\"PassengerId\": original_test_df[\"PassengerId\"],\n",
    "                      \"Transported\" : test_pred \n",
    "})\n",
    "final"
   ]
  },
  {
   "cell_type": "markdown",
   "id": "9fee3fc0",
   "metadata": {},
   "source": [
    "### SUBMISSION"
   ]
  },
  {
   "cell_type": "code",
   "execution_count": 31,
   "id": "5bd8bf12",
   "metadata": {},
   "outputs": [],
   "source": [
    "final.to_csv('submission.csv',index = False)"
   ]
  }
 ],
 "metadata": {
  "kernelspec": {
   "display_name": "Python 3",
   "language": "python",
   "name": "python3"
  },
  "language_info": {
   "codemirror_mode": {
    "name": "ipython",
    "version": 3
   },
   "file_extension": ".py",
   "mimetype": "text/x-python",
   "name": "python",
   "nbconvert_exporter": "python",
   "pygments_lexer": "ipython3",
   "version": "3.6.12"
  }
 },
 "nbformat": 4,
 "nbformat_minor": 5
}
